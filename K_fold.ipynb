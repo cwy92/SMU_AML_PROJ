{
  "nbformat": 4,
  "nbformat_minor": 0,
  "metadata": {
    "colab": {
      "provenance": [],
      "authorship_tag": "ABX9TyNxfbqpoqP5RvrpGCR9bqFP",
      "include_colab_link": true
    },
    "kernelspec": {
      "name": "python3",
      "display_name": "Python 3"
    },
    "language_info": {
      "name": "python"
    }
  },
  "cells": [
    {
      "cell_type": "markdown",
      "metadata": {
        "id": "view-in-github",
        "colab_type": "text"
      },
      "source": [
        "<a href=\"https://colab.research.google.com/github/pakkei1212/SMU_AML_PROJ/blob/main/K_fold.ipynb\" target=\"_parent\"><img src=\"https://colab.research.google.com/assets/colab-badge.svg\" alt=\"Open In Colab\"/></a>"
      ]
    },
    {
      "cell_type": "code",
      "execution_count": 1,
      "metadata": {
        "colab": {
          "base_uri": "https://localhost:8080/"
        },
        "id": "cKiCYHzm1oIv",
        "outputId": "b1e1364a-a03b-4fdc-91b3-532b69cc56c0"
      },
      "outputs": [
        {
          "output_type": "stream",
          "name": "stdout",
          "text": [
            "Drive already mounted at /content/drive; to attempt to forcibly remount, call drive.mount(\"/content/drive\", force_remount=True).\n",
            "/content/drive/MyDrive/SMU_MITB_AML_PRO\n"
          ]
        }
      ],
      "source": [
        "#@title connect google drive\n",
        "\n",
        "from google.colab import drive\n",
        "drive.mount('/content/drive')\n",
        "%cd /content/drive/MyDrive/SMU_MITB_AML_PRO/"
      ]
    },
    {
      "cell_type": "code",
      "source": [
        "from sklearn.model_selection import StratifiedKFold, cross_val_score, train_test_split\n",
        "\n",
        "import numpy as np\n",
        "import pandas as pd\n",
        "\n",
        "from hotel_preprocessing import clean_data, extract_features, drop_columns, XYPreprocessor"
      ],
      "metadata": {
        "id": "8QvNCSsk2AsC"
      },
      "execution_count": 2,
      "outputs": []
    },
    {
      "cell_type": "code",
      "source": [
        "raw_hotel_data = pd.read_csv(\"hotel_bookings.csv\")\n",
        "hotel_data = raw_hotel_data.copy()"
      ],
      "metadata": {
        "id": "mXCipiQL2ksW"
      },
      "execution_count": 3,
      "outputs": []
    },
    {
      "cell_type": "code",
      "source": [
        "# Combine year, month, and day columns into a single datetime column\n",
        "hotel_data['arrival_date'] = pd.to_datetime(\n",
        "    hotel_data['arrival_date_year'].astype(str) + '-' +\n",
        "    hotel_data['arrival_date_month'] + '-' +\n",
        "    hotel_data['arrival_date_day_of_month'].astype(str),\n",
        "    format='%Y-%B-%d'  # Ensure proper month name parsing\n",
        ")\n",
        "\n",
        "# Determine the latest arrival date\n",
        "last_date = hotel_data['arrival_date'].max()\n",
        "\n",
        "# Define the cutoff date for the last 3 months\n",
        "cutoff_date = last_date - pd.DateOffset(months=3)\n",
        "\n",
        "# Split into test and train/val sets\n",
        "test_data = hotel_data[hotel_data['arrival_date'] > cutoff_date].reset_index(drop=True)\n",
        "train_val_data = hotel_data[hotel_data['arrival_date'] <= cutoff_date].reset_index(drop=True)\n",
        "\n",
        "# Optional summary\n",
        "print(f\"Latest arrival date: {last_date.date()}\")\n",
        "print(f\"Cutoff date for test set: {cutoff_date.date()}\")\n",
        "print(f\"Train/Validation samples: {len(train_val_data)}\")\n",
        "print(f\"Test samples: {len(test_data)}\")"
      ],
      "metadata": {
        "colab": {
          "base_uri": "https://localhost:8080/"
        },
        "id": "MZTlmUan3gjP",
        "outputId": "16059410-a2a0-45c6-e999-49ad4fa324b1"
      },
      "execution_count": 10,
      "outputs": [
        {
          "output_type": "stream",
          "name": "stdout",
          "text": [
            "Latest arrival date: 2017-08-31\n",
            "Cutoff date for test set: 2017-05-31\n",
            "Train/Validation samples: 103505\n",
            "Test samples: 15885\n"
          ]
        }
      ]
    },
    {
      "cell_type": "code",
      "source": [
        "X_train_val_raw = train_val_data.drop(['is_canceled'], axis=1)\n",
        "y_train_val_raw = train_val_data['is_canceled'].astype(int)\n",
        "\n",
        "X_test_raw = test_data.drop(['is_canceled'], axis=1)\n",
        "y_test_raw = test_data['is_canceled'].astype(int)"
      ],
      "metadata": {
        "id": "XFE5YwWA1ucH"
      },
      "execution_count": 11,
      "outputs": []
    },
    {
      "cell_type": "code",
      "source": [
        "skf = StratifiedKFold(n_splits=5, shuffle=True, random_state=2025)\n",
        "preprocessor = XYPreprocessor()\n",
        "\n",
        "for train_idx, val_idx in skf.split(X_train_val_raw, y_train_val_raw):\n",
        "    X_train_raw, X_val_raw = X_train_val_raw.iloc[train_idx], X_train_val_raw.iloc[val_idx]\n",
        "    y_train_raw, y_val_raw = y_train_val_raw.iloc[train_idx], y_train_val_raw.iloc[val_idx]\n",
        "\n",
        "    # Joint preprocessing of X and y\n",
        "    X_train, y_train = preprocessor.fit_transform(X_train_raw, y_train_raw)\n",
        "    X_val, y_val = preprocessor.transform(X_val_raw, y_val_raw)\n",
        "\n",
        "    #print(X_train.head())\n",
        "    #print(y_train.head())\n",
        "    #print(X_val.head())\n",
        "    #print(y_val.head())"
      ],
      "metadata": {
        "id": "N3RhSDdZ2JV_"
      },
      "execution_count": 12,
      "outputs": []
    },
    {
      "cell_type": "code",
      "source": [
        " X_test, y_test = preprocessor.transform(X_test_raw, y_test_raw)\n",
        "\n",
        " print(X_test.head())\n",
        " print(y_test.head())"
      ],
      "metadata": {
        "colab": {
          "base_uri": "https://localhost:8080/"
        },
        "id": "yRYchqYe5TJ1",
        "outputId": "0ea12f6d-f238-406d-9f23-8aef562664b0"
      },
      "execution_count": 13,
      "outputs": [
        {
          "output_type": "stream",
          "name": "stdout",
          "text": [
            "   lead_time  arrival_date_year  arrival_date_day_of_month  \\\n",
            "0   0.001357                1.0                        0.0   \n",
            "2   0.024423                1.0                        0.0   \n",
            "3   0.058345                1.0                        0.0   \n",
            "4   0.017639                1.0                        0.0   \n",
            "5   0.025780                1.0                        0.0   \n",
            "\n",
            "   stays_in_weekend_nights  stays_in_week_nights    adults  children  babies  \\\n",
            "0                      0.0                  0.02  0.036364       0.0     0.0   \n",
            "2                      0.0                  0.04  0.036364       0.0     0.0   \n",
            "3                      0.0                  0.04  0.036364       0.0     0.0   \n",
            "4                      0.0                  0.06  0.036364       0.0     0.0   \n",
            "5                      0.0                  0.06  0.036364       0.0     0.0   \n",
            "\n",
            "   is_repeated_guest  previous_cancellations  ...  country_binned_ITA  \\\n",
            "0                0.0                     0.0  ...                   0   \n",
            "2                0.0                     0.0  ...                   0   \n",
            "3                0.0                     0.0  ...                   0   \n",
            "4                0.0                     0.0  ...                   0   \n",
            "5                0.0                     0.0  ...                   0   \n",
            "\n",
            "   country_binned_NLD  country_binned_Other  country_binned_PRT  \\\n",
            "0                   0                     0                   1   \n",
            "2                   0                     1                   0   \n",
            "3                   0                     1                   0   \n",
            "4                   0                     0                   0   \n",
            "5                   0                     0                   0   \n",
            "\n",
            "   agent_binned_7.0  agent_binned_9.0  agent_binned_14.0  agent_binned_240.0  \\\n",
            "0                 0                 0                  0                   1   \n",
            "2                 0                 0                  0                   1   \n",
            "3                 0                 0                  0                   1   \n",
            "4                 0                 0                  0                   1   \n",
            "5                 0                 0                  0                   1   \n",
            "\n",
            "   agent_binned_Not Specified  agent_binned_Other  \n",
            "0                           0                   0  \n",
            "2                           0                   0  \n",
            "3                           0                   0  \n",
            "4                           0                   0  \n",
            "5                           0                   0  \n",
            "\n",
            "[5 rows x 99 columns]\n",
            "0    1\n",
            "2    1\n",
            "3    1\n",
            "4    1\n",
            "5    1\n",
            "Name: is_canceled, dtype: int64\n"
          ]
        }
      ]
    }
  ]
}