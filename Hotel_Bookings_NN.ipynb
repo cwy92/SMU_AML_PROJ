{
 "cells": [
  {
   "cell_type": "markdown",
   "id": "e0595ca1",
   "metadata": {},
   "source": [
    "# Neural Network"
   ]
  },
  {
   "cell_type": "code",
   "execution_count": 37,
   "id": "f1c5099a",
   "metadata": {},
   "outputs": [],
   "source": [
    "import pandas as pd\n",
    "import numpy as np\n",
    "from sklearn.model_selection import train_test_split\n",
    "from sklearn.preprocessing import StandardScaler, LabelEncoder\n",
    "from sklearn.model_selection import StratifiedKFold\n",
    "from sklearn.metrics import classification_report, roc_auc_score\n",
    "import torch\n",
    "from torch import nn\n",
    "from torch.utils.data import DataLoader, TensorDataset\n",
    "from tqdm import tqdm\n",
    "\n",
    "\n",
    "# Load dataset\n",
    "df = pd.read_csv(\"hotel_data_cleaned.csv\")  # alr scaled, clean data\n"
   ]
  },
  {
   "cell_type": "code",
   "execution_count": 38,
   "id": "69c281bf",
   "metadata": {},
   "outputs": [
    {
     "data": {
      "text/plain": [
       "arrival_date_in_3_month\n",
       "0.0    74387\n",
       "1.0    12990\n",
       "Name: count, dtype: int64"
      ]
     },
     "execution_count": 38,
     "metadata": {},
     "output_type": "execute_result"
    }
   ],
   "source": [
    "df['arrival_date_in_3_month'].value_counts()"
   ]
  },
  {
   "cell_type": "code",
   "execution_count": 39,
   "id": "ad833940",
   "metadata": {},
   "outputs": [],
   "source": [
    "# Target\n",
    "target_col = 'is_canceled'\n",
    "\n",
    "# Encode categorical features\n",
    "label_encoders = {}\n",
    "for col in df.select_dtypes(include=['object']).columns:\n",
    "    le = LabelEncoder()\n",
    "    df[col] = le.fit_transform(df[col])\n",
    "    label_encoders[col] = le\n",
    "\n",
    "# Split features/target\n",
    "X = df.drop(columns=[target_col])\n",
    "y = df[target_col]\n",
    "\n",
    "# Train-test split (most recent 3 months as test set)\n",
    "X_train = X[X['arrival_date_in_3_month'] == 0].drop(columns=['arrival_date_in_3_month'])\n",
    "X_test = X[X['arrival_date_in_3_month'] == 1].drop(columns=['arrival_date_in_3_month'])\n",
    "y_train = y[X['arrival_date_in_3_month'] == 0]\n",
    "y_test = y[X['arrival_date_in_3_month'] == 1]\n",
    "\n",
    "# Convert to PyTorch tensors\n",
    "X_train_tensor = torch.tensor(X_train.values, dtype=torch.float32)\n",
    "X_test_tensor = torch.tensor(X_test.values, dtype=torch.float32)\n",
    "y_train_tensor = torch.tensor(y_train.values, dtype=torch.float32)\n",
    "y_test_tensor = torch.tensor(y_test.values, dtype=torch.float32)\n",
    "\n",
    "# Create PyTorch Datasets and Loaders\n",
    "train_dataset = TensorDataset(X_train_tensor, y_train_tensor)\n",
    "test_dataset = TensorDataset(X_test_tensor, y_test_tensor)\n",
    "\n",
    "train_loader = DataLoader(train_dataset, batch_size=64, shuffle=True)\n",
    "test_loader = DataLoader(test_dataset, batch_size=64)"
   ]
  },
  {
   "cell_type": "code",
   "execution_count": null,
   "id": "72970112",
   "metadata": {},
   "outputs": [],
   "source": [
    "# --- Neural Network Definition ---\n",
    "class CancellationNet(nn.Module):\n",
    "    def __init__(self, input_dim, hidden_dim, dropout):\n",
    "        super(CancellationNet, self).__init__()\n",
    "        self.model = nn.Sequential(\n",
    "            nn.Linear(input_dim, hidden_dim),    # Input layer\n",
    "            nn.ReLU(),                     # Activation function\n",
    "            nn.Dropout(dropout),    # Dropout for regularization\n",
    "            nn.Linear(hidden_dim, 1),   # Output layer\n",
    "            nn.Sigmoid()    # Sigmoid activation (Squashes output to range [0, 1]) for binary classification\n",
    "        )\n",
    "\n",
    "    def forward(self, x):\n",
    "        return self.model(x).squeeze()\n",
    "\n",
    "# --- Training Function ---\n",
    "def train_model(X, y, params, device):\n",
    "    skf = StratifiedKFold(n_splits=5, shuffle=True, random_state=42)\n",
    "    val_aucs = []\n",
    "\n",
    "    for train_idx, val_idx in skf.split(X, y):\n",
    "        X_tr = X_train_tensor[train_idx]\n",
    "        X_val = X_train_tensor[val_idx]\n",
    "        y_tr = y_train_tensor[train_idx]\n",
    "        y_val = y_train_tensor[val_idx]\n",
    "\n",
    "        model = CancellationNet(X.shape[1], params['hidden_dim'], params['dropout']).to(device)\n",
    "        criterion = nn.BCELoss()    # Binary Cross-Entropy Loss for binary classification\n",
    "        optimizer = torch.optim.Adam(model.parameters(), lr=params['lr'])   # using Adam optimizer\n",
    "\n",
    "        train_ds = TensorDataset(X_tr, y_tr)    \n",
    "        val_ds = TensorDataset(X_val, y_val)\n",
    "        train_loader = DataLoader(train_ds, batch_size=params['batch_size'], shuffle=True)\n",
    "\n",
    "        model.train()\n",
    "        for epoch in range(params['epochs']):\n",
    "            for xb, yb in train_loader:\n",
    "                xb, yb = xb.to(device), yb.to(device)\n",
    "                optimizer.zero_grad()\n",
    "                preds = model(xb)\n",
    "                loss = criterion(preds, yb)\n",
    "                loss.backward()\n",
    "                optimizer.step()    \n",
    "\n",
    "        # Eval\n",
    "        model.eval()\n",
    "        with torch.no_grad():\n",
    "            preds = model(X_val.to(device)).cpu().numpy()   # Get predictions\n",
    "            auc = roc_auc_score(y_val.numpy(), preds)   # Calculate AUC\n",
    "            val_aucs.append(auc)\n",
    "\n",
    "    return np.mean(val_aucs)"
   ]
  },
  {
   "cell_type": "code",
   "execution_count": 42,
   "id": "b9b38f7c",
   "metadata": {},
   "outputs": [
    {
     "name": "stderr",
     "output_type": "stream",
     "text": [
      "Tuning: 100%|██████████| 3/3 [04:17<00:00, 85.95s/it]\n"
     ]
    }
   ],
   "source": [
    "# Hyperparameter Tuning\n",
    "param_grid = [\n",
    "    {'lr': 1e-3, 'hidden_dim': 64, 'dropout': 0.3, 'batch_size': 64, 'epochs': 10},\n",
    "    {'lr': 1e-4, 'hidden_dim': 128, 'dropout': 0.5, 'batch_size': 32, 'epochs': 15},\n",
    "    {'lr': 5e-4, 'hidden_dim': 256, 'dropout': 0.4, 'batch_size': 64, 'epochs': 12},\n",
    "]\n",
    "\n",
    "device = torch.device(\"cuda\" if torch.cuda.is_available() else \"cpu\")\n",
    "results = []\n",
    "\n",
    "for config in tqdm(param_grid, desc=\"Tuning\"):  # tqdm for progress bar\n",
    "    avg_auc = train_model(X_train, y_train, config, device)\n",
    "    config['val_auc'] = avg_auc\n",
    "    results.append(config)\n",
    "\n",
    "# Sort by best AUC\n",
    "results = sorted(results, key=lambda x: x['val_auc'], reverse=True)"
   ]
  },
  {
   "cell_type": "code",
   "execution_count": 44,
   "id": "43e1ce19",
   "metadata": {},
   "outputs": [
    {
     "name": "stdout",
     "output_type": "stream",
     "text": [
      "\n",
      "Hyperparameter Tuning Results:\n",
      "1. AUC=0.8953 | Config={'lr': 0.0005, 'hidden_dim': 256, 'dropout': 0.4, 'batch_size': 64, 'epochs': 12, 'val_auc': np.float64(0.8953157623301985)}\n",
      "2. AUC=0.8912 | Config={'lr': 0.001, 'hidden_dim': 64, 'dropout': 0.3, 'batch_size': 64, 'epochs': 10, 'val_auc': np.float64(0.8911505423643561)}\n",
      "3. AUC=0.8875 | Config={'lr': 0.0001, 'hidden_dim': 128, 'dropout': 0.5, 'batch_size': 32, 'epochs': 15, 'val_auc': np.float64(0.8874579077531809)}\n",
      "\n",
      "✅ Final Test AUC: 0.8435\n"
     ]
    }
   ],
   "source": [
    "# Summary of results\n",
    "print(\"\\nHyperparameter Tuning Results:\")\n",
    "for i, res in enumerate(results):\n",
    "    print(f\"{i+1}. AUC={res['val_auc']:.4f} | Config={res}\")\n",
    "\n",
    "# Evaluate Best on Test Set\n",
    "best_params = results[0]\n",
    "final_model = CancellationNet(X_train.shape[1], best_params['hidden_dim'], best_params['dropout']).to(device)\n",
    "optimizer = torch.optim.Adam(final_model.parameters(), lr=best_params['lr'])\n",
    "criterion = nn.BCELoss()    # Binary Cross-Entropy Loss for binary classification\n",
    "\n",
    "train_ds = TensorDataset(X_train_tensor, y_train_tensor)\n",
    "train_loader = DataLoader(train_ds, batch_size=best_params['batch_size'], shuffle=True)\n",
    "\n",
    "final_model.train()\n",
    "for epoch in range(best_params['epochs']):\n",
    "    for xb, yb in train_loader:\n",
    "        xb, yb = xb.to(device), yb.to(device)\n",
    "        optimizer.zero_grad()\n",
    "        preds = final_model(xb)\n",
    "        loss = criterion(preds, yb)\n",
    "        loss.backward()\n",
    "        optimizer.step()\n",
    "\n",
    "# Final Test AUC\n",
    "final_model.eval()\n",
    "with torch.no_grad():\n",
    "    test_preds = final_model(X_test_tensor.to(device)).cpu().numpy()\n",
    "    test_auc = roc_auc_score(y_test_tensor.numpy(), test_preds)\n",
    "    print(f\"\\n✅ Final Test AUC: {test_auc:.4f}\")"
   ]
  },
  {
   "cell_type": "code",
   "execution_count": null,
   "id": "e311ecc5",
   "metadata": {},
   "outputs": [],
   "source": []
  }
 ],
 "metadata": {
  "kernelspec": {
   "display_name": "tf-gpu",
   "language": "python",
   "name": "python3"
  },
  "language_info": {
   "codemirror_mode": {
    "name": "ipython",
    "version": 3
   },
   "file_extension": ".py",
   "mimetype": "text/x-python",
   "name": "python",
   "nbconvert_exporter": "python",
   "pygments_lexer": "ipython3",
   "version": "3.11.11"
  }
 },
 "nbformat": 4,
 "nbformat_minor": 5
}
