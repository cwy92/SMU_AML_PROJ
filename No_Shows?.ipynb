{
  "nbformat": 4,
  "nbformat_minor": 0,
  "metadata": {
    "colab": {
      "provenance": [],
      "authorship_tag": "ABX9TyNi8IyAylG37rSgBETcpoZB",
      "include_colab_link": true
    },
    "kernelspec": {
      "name": "python3",
      "display_name": "Python 3"
    },
    "language_info": {
      "name": "python"
    }
  },
  "cells": [
    {
      "cell_type": "markdown",
      "metadata": {
        "id": "view-in-github",
        "colab_type": "text"
      },
      "source": [
        "<a href=\"https://colab.research.google.com/github/pakkei1212/SMU_AML_PROJ/blob/no_shows/No_Shows%3F.ipynb\" target=\"_parent\"><img src=\"https://colab.research.google.com/assets/colab-badge.svg\" alt=\"Open In Colab\"/></a>"
      ]
    },
    {
      "cell_type": "code",
      "source": [
        "!pip install optuna"
      ],
      "metadata": {
        "colab": {
          "base_uri": "https://localhost:8080/"
        },
        "id": "Uqm_bCS9LqEg",
        "outputId": "6edf9644-9acb-4887-8d1b-7be101fd62b6"
      },
      "execution_count": 1,
      "outputs": [
        {
          "output_type": "stream",
          "name": "stdout",
          "text": [
            "Collecting optuna\n",
            "  Downloading optuna-4.3.0-py3-none-any.whl.metadata (17 kB)\n",
            "Collecting alembic>=1.5.0 (from optuna)\n",
            "  Downloading alembic-1.16.1-py3-none-any.whl.metadata (7.3 kB)\n",
            "Collecting colorlog (from optuna)\n",
            "  Downloading colorlog-6.9.0-py3-none-any.whl.metadata (10 kB)\n",
            "Requirement already satisfied: numpy in /usr/local/lib/python3.11/dist-packages (from optuna) (2.0.2)\n",
            "Requirement already satisfied: packaging>=20.0 in /usr/local/lib/python3.11/dist-packages (from optuna) (24.2)\n",
            "Requirement already satisfied: sqlalchemy>=1.4.2 in /usr/local/lib/python3.11/dist-packages (from optuna) (2.0.41)\n",
            "Requirement already satisfied: tqdm in /usr/local/lib/python3.11/dist-packages (from optuna) (4.67.1)\n",
            "Requirement already satisfied: PyYAML in /usr/local/lib/python3.11/dist-packages (from optuna) (6.0.2)\n",
            "Requirement already satisfied: Mako in /usr/lib/python3/dist-packages (from alembic>=1.5.0->optuna) (1.1.3)\n",
            "Requirement already satisfied: typing-extensions>=4.12 in /usr/local/lib/python3.11/dist-packages (from alembic>=1.5.0->optuna) (4.14.0)\n",
            "Requirement already satisfied: greenlet>=1 in /usr/local/lib/python3.11/dist-packages (from sqlalchemy>=1.4.2->optuna) (3.2.2)\n",
            "Downloading optuna-4.3.0-py3-none-any.whl (386 kB)\n",
            "\u001b[2K   \u001b[90m━━━━━━━━━━━━━━━━━━━━━━━━━━━━━━━━━━━━━━━━\u001b[0m \u001b[32m386.6/386.6 kB\u001b[0m \u001b[31m14.3 MB/s\u001b[0m eta \u001b[36m0:00:00\u001b[0m\n",
            "\u001b[?25hDownloading alembic-1.16.1-py3-none-any.whl (242 kB)\n",
            "\u001b[2K   \u001b[90m━━━━━━━━━━━━━━━━━━━━━━━━━━━━━━━━━━━━━━━━\u001b[0m \u001b[32m242.5/242.5 kB\u001b[0m \u001b[31m12.1 MB/s\u001b[0m eta \u001b[36m0:00:00\u001b[0m\n",
            "\u001b[?25hDownloading colorlog-6.9.0-py3-none-any.whl (11 kB)\n",
            "Installing collected packages: colorlog, alembic, optuna\n",
            "Successfully installed alembic-1.16.1 colorlog-6.9.0 optuna-4.3.0\n"
          ]
        }
      ]
    },
    {
      "cell_type": "code",
      "execution_count": 4,
      "metadata": {
        "id": "l9t69pve40Mk"
      },
      "outputs": [],
      "source": [
        "from sklearn.model_selection import StratifiedKFold\n",
        "from sklearn.metrics import roc_auc_score, classification_report, confusion_matrix\n",
        "from xgboost import XGBClassifier\n",
        "from hotel_preprocessing import XYPreprocessor\n",
        "import numpy as np\n",
        "import pandas as pd\n",
        "import optuna\n",
        "\n",
        "\n",
        "RANDOM_STATE = 2025\n",
        "VERBOSE = 2"
      ]
    },
    {
      "cell_type": "code",
      "source": [
        "# === Load data and preprocess arrival date ===\n",
        "raw_hotel_data = pd.read_csv(\"hotel_bookings.csv\")\n",
        "hotel_data = raw_hotel_data.copy()\n",
        "\n",
        "hotel_data['arrival_date'] = pd.to_datetime(\n",
        "    hotel_data['arrival_date_year'].astype(str) + '-' +\n",
        "    hotel_data['arrival_date_month'] + '-' +\n",
        "    hotel_data['arrival_date_day_of_month'].astype(str),\n",
        "    format='%Y-%B-%d'\n",
        ")\n",
        "hotel_data['reservation_status_date'] = pd.to_datetime(hotel_data['reservation_status_date'])\n",
        "\n",
        "# Define target: 1 if No-Show OR cancelled within 3 days before arrival, else 0\n",
        "hotel_data['days_before_arrival'] = (hotel_data['arrival_date'] - hotel_data['reservation_status_date']).dt.days\n",
        "hotel_data['late_or_noshow'] = ((hotel_data['reservation_status'] == 'No-Show') |\n",
        "                                 ((hotel_data['reservation_status'] == 'Canceled') & (hotel_data['days_before_arrival'] <= 3))).astype(int)\n",
        "\n",
        "# === Filter to only canceled reservations for stage 2 analysis ===\n",
        "hotel_data = hotel_data[hotel_data['is_canceled'] == 1].reset_index(drop=True)\n",
        "\n",
        "# === Split train/test by arrival_date ===\n",
        "last_date = hotel_data['arrival_date'].max()\n",
        "cutoff_date = last_date - pd.DateOffset(months=3)\n",
        "\n",
        "test_data = hotel_data[hotel_data['arrival_date'] > cutoff_date].reset_index(drop=True)\n",
        "train_val_data = hotel_data[hotel_data['arrival_date'] <= cutoff_date].reset_index(drop=True)\n",
        "\n",
        "cols_to_drop = [\n",
        "    'reservation_status', 'reservation_status_date', 'arrival_date',\n",
        "    'days_before_arrival', 'is_canceled'\n",
        "]\n",
        "\n",
        "X_train_val_raw = train_val_data.drop(columns=cols_to_drop + ['late_or_noshow'])\n",
        "y_train_val_raw = train_val_data['late_or_noshow']\n",
        "\n",
        "X_test_raw = test_data.drop(columns=cols_to_drop + ['late_or_noshow'])\n",
        "y_test_raw = test_data['late_or_noshow']\n",
        "\n",
        "# === Preprocess ===\n",
        "preprocessor = XYPreprocessor()\n",
        "X_train_val, y_train_val = preprocessor.fit_transform(X_train_val_raw, y_train_val_raw)\n",
        "X_test, y_test = preprocessor.transform(X_test_raw, y_test_raw)\n",
        "\n",
        "# === Optuna objective ===\n",
        "def objective(trial):\n",
        "    params = {\n",
        "        'max_depth': trial.suggest_int('max_depth', 3, 10),\n",
        "        'learning_rate': trial.suggest_float('learning_rate', 0.01, 0.3),\n",
        "        'n_estimators': trial.suggest_int('n_estimators', 100, 500),\n",
        "        'min_child_weight': trial.suggest_int('min_child_weight', 1, 10),\n",
        "        'subsample': trial.suggest_float('subsample', 0.5, 1.0),\n",
        "        'colsample_bytree': trial.suggest_float('colsample_bytree', 0.5, 1.0),\n",
        "        'reg_alpha': trial.suggest_float('reg_alpha', 0.0, 5.0),\n",
        "        'reg_lambda': trial.suggest_float('reg_lambda', 0.0, 5.0),\n",
        "        'scale_pos_weight': (y_train_val == 0).sum() / (y_train_val == 1).sum(),\n",
        "        'eval_metric': 'auc',\n",
        "        'random_state': 42\n",
        "    }\n",
        "\n",
        "    kf = StratifiedKFold(n_splits=5, shuffle=True, random_state=42)\n",
        "    aucs = []\n",
        "\n",
        "    for train_idx, val_idx in kf.split(X_train_val, y_train_val):\n",
        "        X_tr = X_train_val.iloc[train_idx].reset_index(drop=True)\n",
        "        y_tr = y_train_val.iloc[train_idx].reset_index(drop=True)\n",
        "        X_val = X_train_val.iloc[val_idx].reset_index(drop=True)\n",
        "        y_val = y_train_val.iloc[val_idx].reset_index(drop=True)\n",
        "\n",
        "        model = XGBClassifier(**params)\n",
        "        model.fit(X_tr, y_tr)\n",
        "        y_val_pred = model.predict_proba(X_val)[:, 1]\n",
        "        val_auc = roc_auc_score(y_val, y_val_pred)\n",
        "        aucs.append(val_auc)\n",
        "\n",
        "    return np.mean(aucs)\n",
        "\n",
        "# === Run Optuna ===\n",
        "study = optuna.create_study(direction='maximize')\n",
        "study.optimize(objective, n_trials=30)\n",
        "\n",
        "print(\"\\n=== Best Parameters ===\")\n",
        "print(study.best_params)"
      ],
      "metadata": {
        "colab": {
          "base_uri": "https://localhost:8080/"
        },
        "id": "EikXD7c05kSV",
        "outputId": "5a75a44c-095c-4f46-bbbc-4d618b06c6fe"
      },
      "execution_count": 5,
      "outputs": [
        {
          "output_type": "stream",
          "name": "stderr",
          "text": [
            "[I 2025-06-15 15:24:44,350] A new study created in memory with name: no-name-fa348224-72d2-4ed1-a44f-fc5b13dbb3f4\n",
            "[I 2025-06-15 15:24:52,407] Trial 0 finished with value: 0.8647193817952132 and parameters: {'max_depth': 8, 'learning_rate': 0.25607990915021606, 'n_estimators': 330, 'min_child_weight': 4, 'subsample': 0.882591247558675, 'colsample_bytree': 0.7377914646114823, 'reg_alpha': 0.24827277365327582, 'reg_lambda': 3.7153402015729835}. Best is trial 0 with value: 0.8647193817952132.\n",
            "[I 2025-06-15 15:25:02,408] Trial 1 finished with value: 0.8698771057727146 and parameters: {'max_depth': 10, 'learning_rate': 0.14281398576986162, 'n_estimators': 270, 'min_child_weight': 6, 'subsample': 0.8574146216937553, 'colsample_bytree': 0.6405644978341395, 'reg_alpha': 2.271476177057684, 'reg_lambda': 1.840058782038339}. Best is trial 1 with value: 0.8698771057727146.\n",
            "[I 2025-06-15 15:25:06,556] Trial 2 finished with value: 0.875744846904136 and parameters: {'max_depth': 6, 'learning_rate': 0.17682273507627325, 'n_estimators': 191, 'min_child_weight': 1, 'subsample': 0.9019441216240285, 'colsample_bytree': 0.7819506542415209, 'reg_alpha': 3.307251970302155, 'reg_lambda': 2.5832061727364413}. Best is trial 2 with value: 0.875744846904136.\n",
            "[I 2025-06-15 15:25:13,826] Trial 3 finished with value: 0.8805304630236819 and parameters: {'max_depth': 4, 'learning_rate': 0.03754474960251108, 'n_estimators': 354, 'min_child_weight': 7, 'subsample': 0.9861098633398897, 'colsample_bytree': 0.8195806237911657, 'reg_alpha': 3.0374784537668713, 'reg_lambda': 3.3345782899203913}. Best is trial 3 with value: 0.8805304630236819.\n",
            "[I 2025-06-15 15:25:30,940] Trial 4 finished with value: 0.8806823143907426 and parameters: {'max_depth': 10, 'learning_rate': 0.02724983141870617, 'n_estimators': 456, 'min_child_weight': 4, 'subsample': 0.8060050229717173, 'colsample_bytree': 0.9266832575420012, 'reg_alpha': 3.52592260378299, 'reg_lambda': 3.4058124559456115}. Best is trial 4 with value: 0.8806823143907426.\n",
            "[I 2025-06-15 15:25:39,066] Trial 5 finished with value: 0.8655900089527929 and parameters: {'max_depth': 6, 'learning_rate': 0.23985305881077026, 'n_estimators': 291, 'min_child_weight': 7, 'subsample': 0.7231298953289274, 'colsample_bytree': 0.9571590436308495, 'reg_alpha': 3.4394781825851526, 'reg_lambda': 3.8165344962370327}. Best is trial 4 with value: 0.8806823143907426.\n",
            "[I 2025-06-15 15:25:44,869] Trial 6 finished with value: 0.8685532222710852 and parameters: {'max_depth': 5, 'learning_rate': 0.2494629179169473, 'n_estimators': 303, 'min_child_weight': 6, 'subsample': 0.6567261833234574, 'colsample_bytree': 0.8041973552219255, 'reg_alpha': 3.586535481175142, 'reg_lambda': 4.00148854053995}. Best is trial 4 with value: 0.8806823143907426.\n",
            "[I 2025-06-15 15:25:50,666] Trial 7 finished with value: 0.8796690828935896 and parameters: {'max_depth': 8, 'learning_rate': 0.1250564214682938, 'n_estimators': 144, 'min_child_weight': 1, 'subsample': 0.9080874254507466, 'colsample_bytree': 0.6511319438273924, 'reg_alpha': 3.2043464642663135, 'reg_lambda': 2.8907112886062136}. Best is trial 4 with value: 0.8806823143907426.\n",
            "[I 2025-06-15 15:26:00,511] Trial 8 finished with value: 0.8638071438139251 and parameters: {'max_depth': 5, 'learning_rate': 0.2626716992470614, 'n_estimators': 474, 'min_child_weight': 7, 'subsample': 0.6925904192443428, 'colsample_bytree': 0.5916095231584967, 'reg_alpha': 2.2196177427448953, 'reg_lambda': 3.6633428699640085}. Best is trial 4 with value: 0.8806823143907426.\n",
            "[I 2025-06-15 15:26:09,188] Trial 9 finished with value: 0.8769012605300835 and parameters: {'max_depth': 8, 'learning_rate': 0.07326844299715021, 'n_estimators': 284, 'min_child_weight': 3, 'subsample': 0.5971112689693108, 'colsample_bytree': 0.8395808779777869, 'reg_alpha': 4.006661473676844, 'reg_lambda': 1.5676917843268234}. Best is trial 4 with value: 0.8806823143907426.\n",
            "[I 2025-06-15 15:26:26,185] Trial 10 finished with value: 0.8831430697828901 and parameters: {'max_depth': 9, 'learning_rate': 0.01847983039707399, 'n_estimators': 494, 'min_child_weight': 10, 'subsample': 0.5315757553535291, 'colsample_bytree': 0.9760174089412457, 'reg_alpha': 4.908962898879025, 'reg_lambda': 0.5770912202025817}. Best is trial 10 with value: 0.8831430697828901.\n",
            "[I 2025-06-15 15:26:42,290] Trial 11 finished with value: 0.8823058747016015 and parameters: {'max_depth': 10, 'learning_rate': 0.020191419907227746, 'n_estimators': 498, 'min_child_weight': 10, 'subsample': 0.5039593755581824, 'colsample_bytree': 0.9929967539877347, 'reg_alpha': 4.953042399081037, 'reg_lambda': 0.06661072697108095}. Best is trial 10 with value: 0.8831430697828901.\n",
            "[I 2025-06-15 15:26:55,177] Trial 12 finished with value: 0.8708256712762766 and parameters: {'max_depth': 9, 'learning_rate': 0.08029613387956036, 'n_estimators': 412, 'min_child_weight': 10, 'subsample': 0.5402924138506909, 'colsample_bytree': 0.9995138170483183, 'reg_alpha': 4.716274502860848, 'reg_lambda': 0.06956101958986174}. Best is trial 10 with value: 0.8831430697828901.\n",
            "[I 2025-06-15 15:27:08,647] Trial 13 finished with value: 0.881460661069907 and parameters: {'max_depth': 10, 'learning_rate': 0.023162826989894317, 'n_estimators': 414, 'min_child_weight': 10, 'subsample': 0.5080475225062236, 'colsample_bytree': 0.9001296551880693, 'reg_alpha': 4.949755172652507, 'reg_lambda': 0.10044446871542966}. Best is trial 10 with value: 0.8831430697828901.\n",
            "[I 2025-06-15 15:27:24,034] Trial 14 finished with value: 0.8712689678061366 and parameters: {'max_depth': 9, 'learning_rate': 0.10151851612645642, 'n_estimators': 497, 'min_child_weight': 9, 'subsample': 0.6010372362729571, 'colsample_bytree': 0.8833667268951209, 'reg_alpha': 4.338256373390788, 'reg_lambda': 0.9465834370114827}. Best is trial 10 with value: 0.8831430697828901.\n",
            "[I 2025-06-15 15:27:35,053] Trial 15 finished with value: 0.8611181110805198 and parameters: {'max_depth': 7, 'learning_rate': 0.1832773808258645, 'n_estimators': 421, 'min_child_weight': 9, 'subsample': 0.5650462129845577, 'colsample_bytree': 0.9837911636217014, 'reg_alpha': 1.405498700527926, 'reg_lambda': 0.8638895530024486}. Best is trial 10 with value: 0.8831430697828901.\n",
            "[I 2025-06-15 15:27:46,079] Trial 16 finished with value: 0.878146000108222 and parameters: {'max_depth': 9, 'learning_rate': 0.05846603880983459, 'n_estimators': 372, 'min_child_weight': 9, 'subsample': 0.5031383146658823, 'colsample_bytree': 0.5191042314947596, 'reg_alpha': 4.259855871436561, 'reg_lambda': 0.834129998929489}. Best is trial 10 with value: 0.8831430697828901.\n",
            "[I 2025-06-15 15:27:58,010] Trial 17 finished with value: 0.8623519233625178 and parameters: {'max_depth': 7, 'learning_rate': 0.2962759753250621, 'n_estimators': 459, 'min_child_weight': 8, 'subsample': 0.6440274775180206, 'colsample_bytree': 0.7217389150919808, 'reg_alpha': 4.940437469171008, 'reg_lambda': 4.7546216363018265}. Best is trial 10 with value: 0.8831430697828901.\n",
            "[I 2025-06-15 15:28:01,303] Trial 18 finished with value: 0.8787411618048854 and parameters: {'max_depth': 3, 'learning_rate': 0.10519473993370573, 'n_estimators': 238, 'min_child_weight': 10, 'subsample': 0.7525067873399793, 'colsample_bytree': 0.8708271236707316, 'reg_alpha': 0.6769916193423118, 'reg_lambda': 1.5630747305951243}. Best is trial 10 with value: 0.8831430697828901.\n",
            "[I 2025-06-15 15:28:06,515] Trial 19 finished with value: 0.8810211973685419 and parameters: {'max_depth': 9, 'learning_rate': 0.01144758789734876, 'n_estimators': 102, 'min_child_weight': 8, 'subsample': 0.58157196532511, 'colsample_bytree': 0.9334588609483576, 'reg_alpha': 1.7899172181074912, 'reg_lambda': 0.7263742108408658}. Best is trial 10 with value: 0.8831430697828901.\n",
            "[I 2025-06-15 15:28:19,626] Trial 20 finished with value: 0.8746441760382518 and parameters: {'max_depth': 10, 'learning_rate': 0.05886786419530214, 'n_estimators': 382, 'min_child_weight': 8, 'subsample': 0.640142579816386, 'colsample_bytree': 0.9620043284935708, 'reg_alpha': 2.7934013808283895, 'reg_lambda': 2.191793733605573}. Best is trial 10 with value: 0.8831430697828901.\n",
            "[I 2025-06-15 15:28:37,858] Trial 21 finished with value: 0.8834486123826875 and parameters: {'max_depth': 10, 'learning_rate': 0.015573619290427016, 'n_estimators': 498, 'min_child_weight': 10, 'subsample': 0.5007890526453338, 'colsample_bytree': 0.9021080022140575, 'reg_alpha': 4.977950168207845, 'reg_lambda': 0.11479392724580345}. Best is trial 21 with value: 0.8834486123826875.\n",
            "[I 2025-06-15 15:28:52,173] Trial 22 finished with value: 0.8774290189842219 and parameters: {'max_depth': 10, 'learning_rate': 0.04421562101857256, 'n_estimators': 444, 'min_child_weight': 10, 'subsample': 0.5378880843739179, 'colsample_bytree': 0.9153509455896404, 'reg_alpha': 4.545266412773282, 'reg_lambda': 0.41287796704234914}. Best is trial 21 with value: 0.8834486123826875.\n",
            "[I 2025-06-15 15:29:08,811] Trial 23 finished with value: 0.8845157644738979 and parameters: {'max_depth': 9, 'learning_rate': 0.012789275056544586, 'n_estimators': 499, 'min_child_weight': 9, 'subsample': 0.5377038643350359, 'colsample_bytree': 0.9896713859183941, 'reg_alpha': 3.984728205644104, 'reg_lambda': 1.163627508264638}. Best is trial 23 with value: 0.8845157644738979.\n",
            "[I 2025-06-15 15:29:22,775] Trial 24 finished with value: 0.8756308476309066 and parameters: {'max_depth': 8, 'learning_rate': 0.05061833240364348, 'n_estimators': 497, 'min_child_weight': 9, 'subsample': 0.5532190427648308, 'colsample_bytree': 0.9483695513231304, 'reg_alpha': 3.9474079244965887, 'reg_lambda': 1.2654903664703006}. Best is trial 23 with value: 0.8845157644738979.\n",
            "[I 2025-06-15 15:29:36,054] Trial 25 finished with value: 0.8706336150592774 and parameters: {'max_depth': 9, 'learning_rate': 0.09053896386990133, 'n_estimators': 429, 'min_child_weight': 8, 'subsample': 0.6193222246536401, 'colsample_bytree': 0.8383703359518824, 'reg_alpha': 3.9152430480809777, 'reg_lambda': 0.37674137885620734}. Best is trial 23 with value: 0.8845157644738979.\n",
            "[I 2025-06-15 15:29:48,117] Trial 26 finished with value: 0.8746638920704296 and parameters: {'max_depth': 7, 'learning_rate': 0.06668783690340317, 'n_estimators': 473, 'min_child_weight': 9, 'subsample': 0.6802876091766639, 'colsample_bytree': 0.8627943052150711, 'reg_alpha': 4.604286339279515, 'reg_lambda': 1.2189715220221182}. Best is trial 23 with value: 0.8845157644738979.\n",
            "[I 2025-06-15 15:30:02,682] Trial 27 finished with value: 0.8793169692626215 and parameters: {'max_depth': 9, 'learning_rate': 0.03511647273798399, 'n_estimators': 467, 'min_child_weight': 10, 'subsample': 0.5512966381344179, 'colsample_bytree': 0.9196870959900815, 'reg_alpha': 4.284365678140341, 'reg_lambda': 0.39903097605102816}. Best is trial 23 with value: 0.8845157644738979.\n",
            "[I 2025-06-15 15:30:14,537] Trial 28 finished with value: 0.8650285020282661 and parameters: {'max_depth': 8, 'learning_rate': 0.21809560941338885, 'n_estimators': 372, 'min_child_weight': 5, 'subsample': 0.5855205000645469, 'colsample_bytree': 0.9636819349731677, 'reg_alpha': 3.8351365820920367, 'reg_lambda': 2.0246287488257995}. Best is trial 23 with value: 0.8845157644738979.\n",
            "[I 2025-06-15 15:30:24,759] Trial 29 finished with value: 0.8715325270891746 and parameters: {'max_depth': 8, 'learning_rate': 0.12091351887233197, 'n_estimators': 341, 'min_child_weight': 9, 'subsample': 0.7684774718266221, 'colsample_bytree': 0.775931110808218, 'reg_alpha': 4.520327629065906, 'reg_lambda': 1.2749498526367185}. Best is trial 23 with value: 0.8845157644738979.\n"
          ]
        },
        {
          "output_type": "stream",
          "name": "stdout",
          "text": [
            "\n",
            "=== Best Parameters ===\n",
            "{'max_depth': 9, 'learning_rate': 0.012789275056544586, 'n_estimators': 499, 'min_child_weight': 9, 'subsample': 0.5377038643350359, 'colsample_bytree': 0.9896713859183941, 'reg_alpha': 3.984728205644104, 'reg_lambda': 1.163627508264638}\n"
          ]
        }
      ]
    },
    {
      "cell_type": "code",
      "source": [
        "# === Evaluate final model with best params ===\n",
        "best_params = study.best_params\n",
        "best_params.update({\n",
        "    'scale_pos_weight': (y_train_val == 0).sum() / (y_train_val == 1).sum(),\n",
        "    'eval_metric': 'auc',\n",
        "    'random_state': 42\n",
        "})\n",
        "\n",
        "model = XGBClassifier(**best_params)\n",
        "model.fit(X_train_val, y_train_val)\n",
        "y_test_pred_proba = model.predict_proba(X_test)[:, 1]\n",
        "y_test_pred = (y_test_pred_proba >= 0.5).astype(int)\n",
        "\n",
        "test_auc = roc_auc_score(y_test, y_test_pred_proba)\n",
        "print(f\"\\nFinal Test ROC AUC: {test_auc:.4f}\")\n",
        "\n",
        "# === Classification report and confusion matrix ===\n",
        "print(\"\\nClassification Report (threshold 0.5):\")\n",
        "print(classification_report(y_test, y_test_pred))\n",
        "\n",
        "print(\"\\nConfusion Matrix:\")\n",
        "print(confusion_matrix(y_test, y_test_pred))"
      ],
      "metadata": {
        "colab": {
          "base_uri": "https://localhost:8080/"
        },
        "id": "qtf7XYo15kn_",
        "outputId": "2b3e0935-ae00-4df7-ede5-0d5d9e06d50b"
      },
      "execution_count": 6,
      "outputs": [
        {
          "output_type": "stream",
          "name": "stdout",
          "text": [
            "\n",
            "Final Test ROC AUC: 0.8697\n",
            "\n",
            "Classification Report (threshold 0.5):\n",
            "              precision    recall  f1-score   support\n",
            "\n",
            "           0       0.98      0.89      0.93      4330\n",
            "           1       0.29      0.69      0.41       294\n",
            "\n",
            "    accuracy                           0.88      4624\n",
            "   macro avg       0.64      0.79      0.67      4624\n",
            "weighted avg       0.93      0.88      0.90      4624\n",
            "\n",
            "\n",
            "Confusion Matrix:\n",
            "[[3842  488]\n",
            " [  90  204]]\n"
          ]
        }
      ]
    },
    {
      "cell_type": "code",
      "source": [
        "# === Feature Importances ===\n",
        "importances = model.feature_importances_\n",
        "feature_names = X_train_val.columns\n",
        "feat_imp_df = pd.DataFrame({'feature': feature_names, 'importance': importances})\n",
        "feat_imp_df = feat_imp_df.sort_values(by='importance', ascending=False)\n",
        "\n",
        "print(\"\\nTop 10 Feature Importances:\")\n",
        "print(feat_imp_df.head(10))\n"
      ],
      "metadata": {
        "id": "DXOFBi-g6qaY",
        "colab": {
          "base_uri": "https://localhost:8080/"
        },
        "outputId": "8dfe2240-8e87-49ac-842e-522242588bf0"
      },
      "execution_count": 7,
      "outputs": [
        {
          "output_type": "stream",
          "name": "stdout",
          "text": [
            "\n",
            "Top 10 Feature Importances:\n",
            "                       feature  importance\n",
            "14             room_type_match    0.096094\n",
            "31  distribution_channel_TA/TO    0.071027\n",
            "10               lead_time_log    0.069812\n",
            "34     deposit_type_Non Refund    0.066422\n",
            "26    market_segment_Online TA    0.051882\n",
            "33     deposit_type_No Deposit    0.042948\n",
            "0                    lead_time    0.040887\n",
            "58          agent_binned_240.0    0.027313\n",
            "38     customer_type_Transient    0.020177\n",
            "60          agent_binned_Other    0.016219\n"
          ]
        }
      ]
    },
    {
      "cell_type": "code",
      "source": [],
      "metadata": {
        "id": "sUwDwXYF5mvN"
      },
      "execution_count": null,
      "outputs": []
    }
  ]
}