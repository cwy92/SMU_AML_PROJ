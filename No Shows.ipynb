{
  "nbformat": 4,
  "nbformat_minor": 0,
  "metadata": {
    "colab": {
      "provenance": [],
      "authorship_tag": "ABX9TyMqFz7IcuCT7B9OCEFeMjMe",
      "include_colab_link": true
    },
    "kernelspec": {
      "name": "python3",
      "display_name": "Python 3"
    },
    "language_info": {
      "name": "python"
    }
  },
  "cells": [
    {
      "cell_type": "markdown",
      "metadata": {
        "id": "view-in-github",
        "colab_type": "text"
      },
      "source": [
        "<a href=\"https://colab.research.google.com/github/pakkei1212/SMU_AML_PROJ/blob/main/No%20Shows.ipynb\" target=\"_parent\"><img src=\"https://colab.research.google.com/assets/colab-badge.svg\" alt=\"Open In Colab\"/></a>"
      ]
    },
    {
      "cell_type": "markdown",
      "source": [
        "## Stage 2 - Predicting Late Cancellations & No Shows"
      ],
      "metadata": {
        "id": "dJvF7Y4BBnnF"
      }
    },
    {
      "cell_type": "code",
      "source": [
        "import pandas as pd\n",
        "import numpy as np\n",
        "from sklearn.compose import ColumnTransformer\n",
        "from sklearn.preprocessing import OneHotEncoder, StandardScaler\n",
        "from sklearn.impute import SimpleImputer\n",
        "from sklearn.pipeline import Pipeline\n",
        "from sklearn.linear_model import LogisticRegression\n",
        "from sklearn.model_selection import StratifiedKFold, cross_val_score\n",
        "from sklearn.metrics import roc_auc_score\n",
        "\n",
        "hotel_data = pd.read_csv(\"hotel_bookings.csv\")\n",
        "\n",
        "month_map = {m: i for i, m in enumerate(\n",
        "    ['January','February','March','April','May','June',\n",
        "     'July','August','September','October','November','December'], 1)}\n",
        "hotel_data['arrival_date'] = pd.to_datetime(\n",
        "    hotel_data['arrival_date_year'].astype(str) + '-' +\n",
        "    hotel_data['arrival_date_month'].map(month_map).astype(str) + '-' +\n",
        "    hotel_data['arrival_date_day_of_month'].astype(str),\n",
        "    errors='coerce'\n",
        ")\n",
        "\n",
        "df_stage2 = hotel_data[hotel_data['is_canceled'] == 1].copy()\n",
        "\n",
        "df_stage2['room_type_match'] = (df_stage2['reserved_room_type'] == df_stage2['assigned_room_type']).astype(int)\n",
        "df_stage2.drop(columns=['reserved_room_type', 'assigned_room_type'], inplace=True)\n",
        "\n",
        "df_stage2['reservation_status_date'] = pd.to_datetime(df_stage2['reservation_status_date'], errors='coerce')\n",
        "df_stage2['days_before_arrival'] = (df_stage2['arrival_date'] - df_stage2['reservation_status_date']).dt.days\n",
        "\n",
        "df_stage2['late_cancel_or_noshow'] = (\n",
        "    (df_stage2['reservation_status'] == 'No-Show') |\n",
        "    ((df_stage2['reservation_status'] == 'Canceled') & (df_stage2['days_before_arrival'] <= 3))\n",
        ").astype(int)\n",
        "\n",
        "df_stage2['total_guests'] = df_stage2[['adults', 'children', 'babies']].sum(axis=1, min_count=1)\n",
        "df_stage2['total_nights'] = df_stage2['stays_in_week_nights'] + df_stage2['stays_in_weekend_nights']\n",
        "\n",
        "features_to_use = [\n",
        "    'lead_time', 'previous_cancellations', 'previous_bookings_not_canceled',\n",
        "    'booking_changes', 'days_in_waiting_list', 'adr',\n",
        "    'required_car_parking_spaces', 'total_of_special_requests',\n",
        "    'total_guests', 'total_nights', 'room_type_match',\n",
        "    'hotel', 'deposit_type', 'customer_type',\n",
        "    'market_segment', 'distribution_channel'\n",
        "]\n",
        "\n",
        "latest_date = df_stage2['arrival_date'].max()\n",
        "test_cutoff = latest_date - pd.DateOffset(months=3)\n",
        "\n",
        "df_trainval = df_stage2[df_stage2['arrival_date'] < test_cutoff]\n",
        "df_test = df_stage2[df_stage2['arrival_date'] >= test_cutoff]\n",
        "\n",
        "X_trainval = df_trainval[features_to_use]\n",
        "y_trainval = df_trainval['late_cancel_or_noshow']\n",
        "X_test = df_test[features_to_use]\n",
        "y_test = df_test['late_cancel_or_noshow']\n",
        "\n",
        "num_features = X_trainval.select_dtypes(include='number').columns.tolist()\n",
        "cat_features = [f for f in features_to_use if f not in num_features]\n",
        "\n",
        "preprocessor = ColumnTransformer([\n",
        "    ('num', Pipeline([\n",
        "        ('imputer', SimpleImputer(strategy='median')),\n",
        "        ('scaler', StandardScaler())\n",
        "    ]), num_features),\n",
        "    ('cat', Pipeline([\n",
        "        ('imputer', SimpleImputer(strategy='constant', fill_value='unknown')),\n",
        "        ('onehot', OneHotEncoder(handle_unknown='ignore', sparse_output=False))\n",
        "    ]), cat_features)\n",
        "])\n",
        "\n",
        "pipe = Pipeline([\n",
        "    ('prep', preprocessor),\n",
        "    ('clf', LogisticRegression(\n",
        "        max_iter=1000,\n",
        "        class_weight='balanced',\n",
        "        random_state=42,\n",
        "        solver='liblinear'\n",
        "    ))\n",
        "])\n",
        "\n",
        "cv = StratifiedKFold(n_splits=5, shuffle=True, random_state=42)\n",
        "cv_scores = cross_val_score(pipe, X_trainval, y_trainval, cv=cv, scoring='roc_auc')\n",
        "print(f\"CV AUC Scores: {cv_scores}\")\n",
        "print(f\"Mean CV AUC: {np.mean(cv_scores):.4f}\")\n",
        "\n",
        "pipe.fit(X_trainval, y_trainval)\n",
        "y_test_proba = pipe.predict_proba(X_test)[:, 1]\n",
        "test_auc = roc_auc_score(y_test, y_test_proba)\n",
        "print(f\"\\nHold-out Test AUC: {test_auc:.4f}\")\n",
        "\n",
        "ohe = pipe.named_steps['prep'].named_transformers_['cat'].named_steps['onehot']\n",
        "cat_expanded = ohe.get_feature_names_out(cat_features)\n",
        "feature_names = num_features + cat_expanded.tolist()\n",
        "\n",
        "coef_series = pd.Series(pipe.named_steps['clf'].coef_[0], index=feature_names)\n",
        "print(\"\\nTop + coefficients:\")\n",
        "print(coef_series.sort_values(ascending=False).head(10))\n",
        "\n",
        "print(\"\\nTop – coefficients:\")\n",
        "print(coef_series.sort_values().head(10))\n"
      ],
      "metadata": {
        "id": "hvtl25NMB4u4",
        "outputId": "1c835763-6201-4b2e-a022-5386add86468",
        "colab": {
          "base_uri": "https://localhost:8080/"
        }
      },
      "execution_count": null,
      "outputs": [
        {
          "output_type": "stream",
          "name": "stdout",
          "text": [
            "CV AUC Scores: [0.87870692 0.85724234 0.87399946 0.86828283 0.87287388]\n",
            "Mean CV AUC: 0.8702\n",
            "\n",
            "Hold-out Test AUC: 0.8407\n",
            "\n",
            "Top + coefficients:\n",
            "deposit_type_Refundable           0.983783\n",
            "distribution_channel_Direct       0.839624\n",
            "market_segment_Aviation           0.835572\n",
            "deposit_type_No Deposit           0.683460\n",
            "market_segment_Undefined          0.302662\n",
            "hotel_City Hotel                  0.236801\n",
            "total_of_special_requests         0.194265\n",
            "distribution_channel_Undefined    0.185670\n",
            "customer_type_Group               0.183050\n",
            "market_segment_Offline TA/TO      0.150956\n",
            "dtype: float64\n",
            "\n",
            "Top – coefficients:\n",
            "deposit_type_Non Refund      -1.663573\n",
            "lead_time                    -1.317879\n",
            "distribution_channel_TA/TO   -0.876645\n",
            "market_segment_Online TA     -0.615430\n",
            "market_segment_Direct        -0.520250\n",
            "previous_cancellations       -0.440984\n",
            "room_type_match              -0.363199\n",
            "customer_type_Transient      -0.285451\n",
            "hotel_Resort Hotel           -0.233131\n",
            "total_guests                 -0.229453\n",
            "dtype: float64\n"
          ]
        }
      ]
    },
    {
      "cell_type": "code",
      "source": [],
      "metadata": {
        "id": "eamKehEfEAGl"
      },
      "execution_count": null,
      "outputs": []
    }
  ]
}