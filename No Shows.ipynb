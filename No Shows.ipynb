{
  "nbformat": 4,
  "nbformat_minor": 0,
  "metadata": {
    "colab": {
      "provenance": [],
      "authorship_tag": "ABX9TyOd9C3o5xyRVT3HyS/Ha8f1",
      "include_colab_link": true
    },
    "kernelspec": {
      "name": "python3",
      "display_name": "Python 3"
    },
    "language_info": {
      "name": "python"
    }
  },
  "cells": [
    {
      "cell_type": "markdown",
      "metadata": {
        "id": "view-in-github",
        "colab_type": "text"
      },
      "source": [
        "<a href=\"https://colab.research.google.com/github/pakkei1212/SMU_AML_PROJ/blob/main/No%20Shows.ipynb\" target=\"_parent\"><img src=\"https://colab.research.google.com/assets/colab-badge.svg\" alt=\"Open In Colab\"/></a>"
      ]
    },
    {
      "cell_type": "markdown",
      "source": [
        "## Stage 2 - Predicting Late Cancellations & No Shows"
      ],
      "metadata": {
        "id": "dJvF7Y4BBnnF"
      }
    },
    {
      "cell_type": "code",
      "source": [
        "!pip install optuna"
      ],
      "metadata": {
        "id": "QgoaTQGpNkhK",
        "outputId": "7bf5c20c-a8fa-450d-f600-9002a9bcf76f",
        "colab": {
          "base_uri": "https://localhost:8080/"
        }
      },
      "execution_count": 1,
      "outputs": [
        {
          "output_type": "stream",
          "name": "stdout",
          "text": [
            "Requirement already satisfied: optuna in /usr/local/lib/python3.11/dist-packages (4.4.0)\n",
            "Requirement already satisfied: alembic>=1.5.0 in /usr/local/lib/python3.11/dist-packages (from optuna) (1.16.2)\n",
            "Requirement already satisfied: colorlog in /usr/local/lib/python3.11/dist-packages (from optuna) (6.9.0)\n",
            "Requirement already satisfied: numpy in /usr/local/lib/python3.11/dist-packages (from optuna) (2.0.2)\n",
            "Requirement already satisfied: packaging>=20.0 in /usr/local/lib/python3.11/dist-packages (from optuna) (24.2)\n",
            "Requirement already satisfied: sqlalchemy>=1.4.2 in /usr/local/lib/python3.11/dist-packages (from optuna) (2.0.41)\n",
            "Requirement already satisfied: tqdm in /usr/local/lib/python3.11/dist-packages (from optuna) (4.67.1)\n",
            "Requirement already satisfied: PyYAML in /usr/local/lib/python3.11/dist-packages (from optuna) (6.0.2)\n",
            "Requirement already satisfied: Mako in /usr/lib/python3/dist-packages (from alembic>=1.5.0->optuna) (1.1.3)\n",
            "Requirement already satisfied: typing-extensions>=4.12 in /usr/local/lib/python3.11/dist-packages (from alembic>=1.5.0->optuna) (4.14.0)\n",
            "Requirement already satisfied: greenlet>=1 in /usr/local/lib/python3.11/dist-packages (from sqlalchemy>=1.4.2->optuna) (3.2.3)\n"
          ]
        }
      ]
    },
    {
      "cell_type": "code",
      "source": [
        "import pandas as pd\n",
        "import numpy as np\n",
        "from sklearn.compose import ColumnTransformer\n",
        "from sklearn.preprocessing import OneHotEncoder, StandardScaler\n",
        "from sklearn.impute import SimpleImputer\n",
        "from sklearn.pipeline import Pipeline\n",
        "from sklearn.linear_model import LogisticRegression\n",
        "from sklearn.model_selection import StratifiedKFold, cross_val_score\n",
        "from sklearn.metrics import roc_auc_score\n",
        "\n",
        "hotel_data = pd.read_csv(\"hotel_bookings.csv\")\n",
        "\n",
        "month_map = {m: i for i, m in enumerate(\n",
        "    ['January','February','March','April','May','June',\n",
        "     'July','August','September','October','November','December'], 1)}\n",
        "hotel_data['arrival_date'] = pd.to_datetime(\n",
        "    hotel_data['arrival_date_year'].astype(str) + '-' +\n",
        "    hotel_data['arrival_date_month'].map(month_map).astype(str) + '-' +\n",
        "    hotel_data['arrival_date_day_of_month'].astype(str),\n",
        "    errors='coerce'\n",
        ")\n",
        "\n",
        "df_stage2 = hotel_data[hotel_data['is_canceled'] == 1].copy()\n",
        "\n",
        "df_stage2['room_type_match'] = (df_stage2['reserved_room_type'] == df_stage2['assigned_room_type']).astype(int)\n",
        "df_stage2.drop(columns=['reserved_room_type', 'assigned_room_type'], inplace=True)\n",
        "\n",
        "df_stage2['reservation_status_date'] = pd.to_datetime(df_stage2['reservation_status_date'], errors='coerce')\n",
        "df_stage2['days_before_arrival'] = (df_stage2['arrival_date'] - df_stage2['reservation_status_date']).dt.days\n",
        "\n",
        "df_stage2['late_cancel_or_noshow'] = (\n",
        "    (df_stage2['reservation_status'] == 'No-Show') |\n",
        "    ((df_stage2['reservation_status'] == 'Canceled') & (df_stage2['days_before_arrival'] <= 3))\n",
        ").astype(int)\n",
        "\n",
        "df_stage2['total_guests'] = df_stage2[['adults', 'children', 'babies']].sum(axis=1, min_count=1)\n",
        "df_stage2['total_nights'] = df_stage2['stays_in_week_nights'] + df_stage2['stays_in_weekend_nights']\n",
        "\n",
        "features_to_use = [\n",
        "    'lead_time', 'previous_cancellations', 'previous_bookings_not_canceled',\n",
        "    'booking_changes', 'days_in_waiting_list', 'adr',\n",
        "    'required_car_parking_spaces', 'total_of_special_requests',\n",
        "    'total_guests', 'total_nights', 'room_type_match',\n",
        "    'hotel', 'deposit_type', 'customer_type',\n",
        "    'market_segment', 'distribution_channel'\n",
        "]\n",
        "\n",
        "latest_date = df_stage2['arrival_date'].max()\n",
        "test_cutoff = latest_date - pd.DateOffset(months=3)\n",
        "\n",
        "df_trainval = df_stage2[df_stage2['arrival_date'] < test_cutoff]\n",
        "df_test = df_stage2[df_stage2['arrival_date'] >= test_cutoff]\n",
        "\n",
        "X_trainval = df_trainval[features_to_use]\n",
        "y_trainval = df_trainval['late_cancel_or_noshow']\n",
        "X_test = df_test[features_to_use]\n",
        "y_test = df_test['late_cancel_or_noshow']\n",
        "\n",
        "num_features = X_trainval.select_dtypes(include='number').columns.tolist()\n",
        "cat_features = [f for f in features_to_use if f not in num_features]\n",
        "\n",
        "preprocessor = ColumnTransformer([\n",
        "    ('num', Pipeline([\n",
        "        ('imputer', SimpleImputer(strategy='median')),\n",
        "        ('scaler', StandardScaler())\n",
        "    ]), num_features),\n",
        "    ('cat', Pipeline([\n",
        "        ('imputer', SimpleImputer(strategy='constant', fill_value='unknown')),\n",
        "        ('onehot', OneHotEncoder(handle_unknown='ignore', sparse_output=False))\n",
        "    ]), cat_features)\n",
        "])\n",
        "\n",
        "pipe = Pipeline([\n",
        "    ('prep', preprocessor),\n",
        "    ('clf', LogisticRegression(\n",
        "        max_iter=1000,\n",
        "        class_weight='balanced',\n",
        "        random_state=42,\n",
        "        solver='liblinear'\n",
        "    ))\n",
        "])\n",
        "\n",
        "cv = StratifiedKFold(n_splits=5, shuffle=True, random_state=42)\n",
        "cv_scores = cross_val_score(pipe, X_trainval, y_trainval, cv=cv, scoring='roc_auc')\n",
        "print(f\"CV AUC Scores: {cv_scores}\")\n",
        "print(f\"Mean CV AUC: {np.mean(cv_scores):.4f}\")\n",
        "\n",
        "pipe.fit(X_trainval, y_trainval)\n",
        "y_test_proba = pipe.predict_proba(X_test)[:, 1]\n",
        "test_auc = roc_auc_score(y_test, y_test_proba)\n",
        "print(f\"\\nHold-out Test AUC: {test_auc:.4f}\")\n",
        "\n",
        "ohe = pipe.named_steps['prep'].named_transformers_['cat'].named_steps['onehot']\n",
        "cat_expanded = ohe.get_feature_names_out(cat_features)\n",
        "feature_names = num_features + cat_expanded.tolist()\n",
        "\n",
        "coef_series = pd.Series(pipe.named_steps['clf'].coef_[0], index=feature_names)\n",
        "print(\"\\nTop + coefficients:\")\n",
        "print(coef_series.sort_values(ascending=False).head(10))\n",
        "\n",
        "print(\"\\nTop – coefficients:\")\n",
        "print(coef_series.sort_values().head(10))\n"
      ],
      "metadata": {
        "id": "hvtl25NMB4u4",
        "outputId": "57dbaf33-1d03-4229-d7ab-c911db1843bf",
        "colab": {
          "base_uri": "https://localhost:8080/"
        }
      },
      "execution_count": 2,
      "outputs": [
        {
          "output_type": "stream",
          "name": "stdout",
          "text": [
            "CV AUC Scores: [0.87870692 0.85724234 0.87399946 0.86828283 0.87287388]\n",
            "Mean CV AUC: 0.8702\n",
            "\n",
            "Hold-out Test AUC: 0.8407\n",
            "\n",
            "Top + coefficients:\n",
            "deposit_type_Refundable           0.983783\n",
            "distribution_channel_Direct       0.839624\n",
            "market_segment_Aviation           0.835572\n",
            "deposit_type_No Deposit           0.683460\n",
            "market_segment_Undefined          0.302662\n",
            "hotel_City Hotel                  0.236801\n",
            "total_of_special_requests         0.194265\n",
            "distribution_channel_Undefined    0.185670\n",
            "customer_type_Group               0.183050\n",
            "market_segment_Offline TA/TO      0.150956\n",
            "dtype: float64\n",
            "\n",
            "Top – coefficients:\n",
            "deposit_type_Non Refund      -1.663573\n",
            "lead_time                    -1.317879\n",
            "distribution_channel_TA/TO   -0.876645\n",
            "market_segment_Online TA     -0.615430\n",
            "market_segment_Direct        -0.520250\n",
            "previous_cancellations       -0.440984\n",
            "room_type_match              -0.363199\n",
            "customer_type_Transient      -0.285451\n",
            "hotel_Resort Hotel           -0.233131\n",
            "total_guests                 -0.229453\n",
            "dtype: float64\n"
          ]
        }
      ]
    },
    {
      "cell_type": "code",
      "source": [
        "import optuna\n",
        "from sklearn.base import clone\n",
        "\n",
        "def objective(trial):\n",
        "    # Sample hyperparameters\n",
        "    solver = trial.suggest_categorical(\"solver\", [\"lbfgs\", \"liblinear\"])\n",
        "    penalty = trial.suggest_categorical(\"penalty\", [\"l1\", \"l2\"])\n",
        "    C = trial.suggest_float(\"C\", 1e-3, 10, log=True)\n",
        "    class_weight = trial.suggest_categorical(\"class_weight\", [None, \"balanced\"])\n",
        "\n",
        "    # Validate penalty/solver combinations\n",
        "    if penalty == \"l1\" and solver not in [\"liblinear\"]:\n",
        "        raise optuna.exceptions.TrialPruned()\n",
        "    if penalty == \"l2\" and solver not in [\"lbfgs\", \"liblinear\"]:\n",
        "        raise optuna.exceptions.TrialPruned()\n",
        "\n",
        "    # Clone pipeline and set parameters\n",
        "    pipe_trial = clone(pipe)\n",
        "    pipe_trial.set_params(\n",
        "        clf__C=C,\n",
        "        clf__penalty=penalty,\n",
        "        clf__solver=solver,\n",
        "        clf__class_weight=class_weight,\n",
        "        clf__max_iter=1000\n",
        "    )\n",
        "\n",
        "    # Cross-validation scoring\n",
        "    score = cross_val_score(pipe_trial, X_trainval, y_trainval, cv=cv, scoring='roc_auc').mean()\n",
        "    return score\n",
        "\n",
        "# Run Optuna study\n",
        "study = optuna.create_study(direction=\"maximize\")\n",
        "study.optimize(objective, n_trials=15)\n",
        "\n",
        "print(\"Best Params:\", study.best_params)\n",
        "print(\"Best CV AUC:\", study.best_value)\n"
      ],
      "metadata": {
        "id": "eamKehEfEAGl",
        "outputId": "7b05ca00-e482-4f28-abce-d0be590ed9c0",
        "colab": {
          "base_uri": "https://localhost:8080/"
        }
      },
      "execution_count": 4,
      "outputs": [
        {
          "output_type": "stream",
          "name": "stderr",
          "text": [
            "[I 2025-06-21 11:25:02,539] A new study created in memory with name: no-name-5fb1a5f0-afa8-43f2-8f58-8bcdf4feb4ca\n",
            "[I 2025-06-21 11:25:21,598] Trial 0 finished with value: 0.870338738861396 and parameters: {'solver': 'liblinear', 'penalty': 'l1', 'C': 0.21645587666860452, 'class_weight': 'balanced'}. Best is trial 0 with value: 0.870338738861396.\n",
            "[I 2025-06-21 11:25:21,601] Trial 1 pruned. \n",
            "[I 2025-06-21 11:25:22,675] Trial 2 finished with value: 0.865803958934204 and parameters: {'solver': 'liblinear', 'penalty': 'l2', 'C': 0.005249763070353185, 'class_weight': None}. Best is trial 0 with value: 0.870338738861396.\n",
            "[I 2025-06-21 11:25:29,163] Trial 3 finished with value: 0.8703713797763906 and parameters: {'solver': 'liblinear', 'penalty': 'l1', 'C': 0.014623554476057319, 'class_weight': 'balanced'}. Best is trial 3 with value: 0.8703713797763906.\n",
            "[I 2025-06-21 11:25:29,167] Trial 4 pruned. \n",
            "[I 2025-06-21 11:25:49,047] Trial 5 finished with value: 0.8696701465678702 and parameters: {'solver': 'liblinear', 'penalty': 'l1', 'C': 0.46227593963891367, 'class_weight': None}. Best is trial 3 with value: 0.8703713797763906.\n",
            "[I 2025-06-21 11:25:55,988] Trial 6 finished with value: 0.8695375542341374 and parameters: {'solver': 'lbfgs', 'penalty': 'l2', 'C': 0.15581858395581286, 'class_weight': None}. Best is trial 3 with value: 0.8703713797763906.\n",
            "[I 2025-06-21 11:25:57,255] Trial 7 finished with value: 0.8703561416562728 and parameters: {'solver': 'liblinear', 'penalty': 'l2', 'C': 0.06138548837024133, 'class_weight': 'balanced'}. Best is trial 3 with value: 0.8703713797763906.\n",
            "[I 2025-06-21 11:26:26,907] Trial 8 finished with value: 0.8695621566678904 and parameters: {'solver': 'liblinear', 'penalty': 'l1', 'C': 8.423587124800463, 'class_weight': None}. Best is trial 3 with value: 0.8703713797763906.\n",
            "[I 2025-06-21 11:27:18,927] Trial 9 finished with value: 0.8701854945505447 and parameters: {'solver': 'liblinear', 'penalty': 'l1', 'C': 4.49016037114142, 'class_weight': 'balanced'}. Best is trial 3 with value: 0.8703713797763906.\n",
            "[I 2025-06-21 11:27:21,628] Trial 10 finished with value: 0.8682023316389575 and parameters: {'solver': 'lbfgs', 'penalty': 'l2', 'C': 0.0014371234837025142, 'class_weight': 'balanced'}. Best is trial 3 with value: 0.8703713797763906.\n",
            "[I 2025-06-21 11:27:23,381] Trial 11 finished with value: 0.8703214327336675 and parameters: {'solver': 'liblinear', 'penalty': 'l2', 'C': 0.018968382873431604, 'class_weight': 'balanced'}. Best is trial 3 with value: 0.8703713797763906.\n",
            "[I 2025-06-21 11:27:25,059] Trial 12 finished with value: 0.8703013021134407 and parameters: {'solver': 'liblinear', 'penalty': 'l2', 'C': 0.017148138875596637, 'class_weight': 'balanced'}. Best is trial 3 with value: 0.8703713797763906.\n",
            "[I 2025-06-21 11:27:26,664] Trial 13 finished with value: 0.8702167031916639 and parameters: {'solver': 'liblinear', 'penalty': 'l2', 'C': 1.125905295075724, 'class_weight': 'balanced'}. Best is trial 3 with value: 0.8703713797763906.\n",
            "[I 2025-06-21 11:27:28,678] Trial 14 finished with value: 0.8680216108324454 and parameters: {'solver': 'liblinear', 'penalty': 'l1', 'C': 0.004352682831253224, 'class_weight': 'balanced'}. Best is trial 3 with value: 0.8703713797763906.\n"
          ]
        },
        {
          "output_type": "stream",
          "name": "stdout",
          "text": [
            "Best Params: {'solver': 'liblinear', 'penalty': 'l1', 'C': 0.014623554476057319, 'class_weight': 'balanced'}\n",
            "Best CV AUC: 0.8703713797763906\n"
          ]
        }
      ]
    },
    {
      "cell_type": "code",
      "source": [
        "final_pipe = clone(pipe)\n",
        "final_pipe.set_params(\n",
        "    clf__C=study.best_params['C'],\n",
        "    clf__penalty=study.best_params['penalty'],\n",
        "    clf__solver=study.best_params['solver'],\n",
        "    clf__class_weight=study.best_params['class_weight'],\n",
        "    clf__max_iter=1000\n",
        ")\n",
        "\n",
        "final_pipe.fit(X_trainval, y_trainval)\n",
        "\n",
        "# Evaluate on hold-out test\n",
        "y_test_proba = final_pipe.predict_proba(X_test)[:, 1]\n",
        "test_auc = roc_auc_score(y_test, y_test_proba)\n",
        "print(f\"\\nTuned Hold-out Test AUC: {test_auc:.4f}\")\n",
        "\n",
        "# Feature importance via coefficients\n",
        "ohe = final_pipe.named_steps['prep'].named_transformers_['cat'].named_steps['onehot']\n",
        "cat_expanded = ohe.get_feature_names_out(cat_features)\n",
        "feature_names = num_features + cat_expanded.tolist()\n",
        "\n",
        "coef_series = pd.Series(final_pipe.named_steps['clf'].coef_[0], index=feature_names)\n",
        "print(\"\\nTop + coefficients:\")\n",
        "print(coef_series.sort_values(ascending=False).head(10))\n",
        "\n",
        "print(\"\\nTop – coefficients:\")\n",
        "print(coef_series.sort_values().head(10))\n"
      ],
      "metadata": {
        "id": "WxLdX52bNa2O",
        "outputId": "a8fc2e57-5e9c-4516-e183-002ef5cdb6cd",
        "colab": {
          "base_uri": "https://localhost:8080/"
        }
      },
      "execution_count": 7,
      "outputs": [
        {
          "output_type": "stream",
          "name": "stdout",
          "text": [
            "\n",
            "Tuned Hold-out Test AUC: 0.8381\n",
            "\n",
            "Top + coefficients:\n",
            "distribution_channel_Direct       0.455066\n",
            "hotel_City Hotel                  0.365325\n",
            "deposit_type_No Deposit           0.322868\n",
            "total_of_special_requests         0.176388\n",
            "market_segment_Offline TA/TO      0.111040\n",
            "booking_changes                   0.057590\n",
            "days_in_waiting_list              0.049451\n",
            "previous_bookings_not_canceled    0.034443\n",
            "distribution_channel_Undefined    0.000000\n",
            "customer_type_Contract            0.000000\n",
            "dtype: float64\n",
            "\n",
            "Top – coefficients:\n",
            "deposit_type_Non Refund      -1.861600\n",
            "lead_time                    -1.271972\n",
            "distribution_channel_TA/TO   -0.689187\n",
            "market_segment_Online TA     -0.524803\n",
            "room_type_match              -0.346600\n",
            "customer_type_Transient      -0.269685\n",
            "previous_cancellations       -0.244928\n",
            "total_guests                 -0.222936\n",
            "adr                          -0.156627\n",
            "deposit_type_Refundable       0.000000\n",
            "dtype: float64\n"
          ]
        }
      ]
    },
    {
      "cell_type": "code",
      "source": [],
      "metadata": {
        "id": "QpXr3TV1NmUr"
      },
      "execution_count": null,
      "outputs": []
    }
  ]
}